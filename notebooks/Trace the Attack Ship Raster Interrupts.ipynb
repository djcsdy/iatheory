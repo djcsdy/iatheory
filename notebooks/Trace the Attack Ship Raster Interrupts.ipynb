{
 "cells": [
  {
   "cell_type": "markdown",
   "metadata": {},
   "source": [
    "# Generate screen diagrams of main game"
   ]
  },
  {
   "cell_type": "markdown",
   "metadata": {},
   "source": [
    "```\n",
    "log on                                        \n",
    "logname \"IridisAlphaTitleScreenInterrupts.txt\"\n",
    "tr exec 0916 0916                             \n",
    "tr exec 0919 0919                             \n",
    "tr exec 0923 0923                             \n",
    "tr exec 0935 0935                             \n",
    "tr exec 0938 0938                             \n",
    "tr exec 0944 0944                             \n",
    "tr exec 0947 0947                             \n",
    "tr exec 098d 098d                             \n",
    "command 1 \"screenshot \\\"title\\\" 2\"            \n",
    "command 2 \"screenshot \\\"title\\\" 2\"            \n",
    "command 3 \"screenshot \\\"title\\\" 2\"            \n",
    "command 4 \"screenshot \\\"title\\\" 2\"            \n",
    "command 5 \"screenshot \\\"title\\\" 2\"            \n",
    "command 6 \"screenshot \\\"title\\\" 2\"            \n",
    "command 7 \"screenshot \\\"title\\\" 2\"            \n",
    "command 8 \"screenshot \\\"title\\\" 2\"            \n",
    "```\n",
    "\n",
    "Patch for vice:\n",
    "```c\n",
    "Index: src/monitor/monitor.c\n",
    "===================================================================\n",
    "--- src/monitor/monitor.c       (revision 42926)\n",
    "+++ src/monitor/monitor.c       (working copy)\n",
    "@@ -1105,6 +1105,7 @@\n",
    " void mon_screenshot_save(const char* filename, int format)\n",
    " {\n",
    "     const char* drvname;\n",
    "+    static int counter = 0;\n",
    " \n",
    "     switch (format) {\n",
    "         case 1:\n",
    "@@ -1123,7 +1124,12 @@\n",
    "             drvname = \"BMP\";\n",
    "             break;\n",
    "     }\n",
    "-    if (screenshot_save(drvname, filename, machine_video_canvas_get(0))) {\n",
    "+    char counter_string[16];\n",
    "+    sprintf(counter_string, \"%d\", counter++);\n",
    "+\n",
    "+    const char* uniq_name;\n",
    "+    uniq_name = util_concat(filename, counter_string, \".png\", NULL);\n",
    "+    if (screenshot_save(drvname, uniq_name, machine_video_canvas_get(0))) {\n",
    "         mon_out(\"Failed.\\n\");\n",
    "     }\n",
    " }\n",
    "\n",
    "```"
   ]
  },
  {
   "cell_type": "code",
   "execution_count": 5,
   "metadata": {},
   "outputs": [],
   "source": [
    "routines = {\n",
    "\"6ac6\": \"DrawUpperPlanetAttackShips\",\n",
    "\"6b01\": \"DrawUpperPlanetAttackShips-Finish\",\n",
    "\"6b02\": \"DrawLowerPlanetAttackShips\",\n",
    "\"6b3d\": \"DrawLowerPlanetAttackShips-Finish\",\n",
    "}\n",
    "\n",
    "routine_names = {\n",
    "\"6ac6\": \"DrawUpperPlanetAttackShips\",\n",
    "\"6b01\": \"DrawUpperPlanetAttackShips-Finish\",\n",
    "\"6b02\": \"DrawLowerPlanetAttackShips\",\n",
    "\"6b3d\": \"DrawLowerPlanetAttackShips-Finish\",\n",
    "}"
   ]
  },
  {
   "cell_type": "code",
   "execution_count": 6,
   "metadata": {},
   "outputs": [],
   "source": [
    "log_file = \"IridisAlphaAttackShipInterrupts.txt\"\n",
    "input_file = open(log_file,'r')\n",
    "curr, curr_count, curr_raster, curr_cycles = \"\", 0, [], []\n",
    "prev_program_counter = 0\n",
    "\n",
    "routine_history = []\n",
    "lines = input_file.readlines()\n",
    "c = 0\n",
    "for i in range(6, len(lines), 5):\n",
    "    address = lines[i][16:20]\n",
    "    raster = lines[i][23:26].strip()\n",
    "    prev_program_counter = int(lines[i+1][70:78])\n",
    "    program_counter = int(lines[i+4][70:78])\n",
    "    cycles = program_counter - prev_program_counter\n",
    "    \n",
    "    routine = routine_names[address]\n",
    "    routine_history += [(routine, raster, cycles, f\"main_game/attack_ships{c}.png\")]\n",
    "    c += 1"
   ]
  },
  {
   "cell_type": "code",
   "execution_count": 27,
   "metadata": {},
   "outputs": [],
   "source": [
    "import matplotlib.pyplot as plt\n",
    "\n",
    "def createGraph(img, ylabel, raster, label_size):\n",
    "    fig = plt.Figure(figsize=(20,20))\n",
    "    ax = fig.add_subplot()\n",
    "\n",
    "    ax.imshow(img, extent=(0,504,312,0))\n",
    "    ax.set_ylabel(\"Rasterline Position\", fontsize = 40)  \n",
    "\n",
    "    ax.set_yticks([0,int(raster),312])\n",
    "    ax.set_xticks([0,504],)\n",
    "    ax.set_yticklabels([0,int(raster),312],fontsize=label_size)\n",
    "    ax.set_xticklabels([0,504],fontsize=label_size)\n",
    "    \n",
    "    ax.set_xlabel(f\"\\n{ylabel}\", fontsize = 45)  \n",
    "    #ax.set_xlabel(r'\\begin{center}X-axis\\\\*\\textit{\\small{' + label + r'}}\\end{center}')\n",
    "    return fig\n"
   ]
  },
  {
   "cell_type": "code",
   "execution_count": 31,
   "metadata": {},
   "outputs": [
    {
     "ename": "FileNotFoundError",
     "evalue": "[Errno 2] No such file or directory: 'main_game/attack_ships85.png'",
     "output_type": "error",
     "traceback": [
      "\u001b[0;31m---------------------------------------------------------------------------\u001b[0m",
      "\u001b[0;31mRemoteTraceback\u001b[0m                           Traceback (most recent call last)",
      "\u001b[0;31mRemoteTraceback\u001b[0m: \n\"\"\"\nTraceback (most recent call last):\n  File \"/usr/lib/python3.8/multiprocessing/pool.py\", line 125, in worker\n    result = (True, func(*args, **kwds))\n  File \"/usr/lib/python3.8/multiprocessing/pool.py\", line 48, in mapstar\n    return list(map(*args))\n  File \"<ipython-input-31-077d6b28c2ae>\", line 7, in process\n    img = Image.open(file_name)\n  File \"/home/robert/.local/lib/python3.8/site-packages/PIL/Image.py\", line 3227, in open\n    fp = builtins.open(filename, \"rb\")\nFileNotFoundError: [Errno 2] No such file or directory: 'main_game/attack_ships85.png'\n\"\"\"",
      "\nThe above exception was the direct cause of the following exception:\n",
      "\u001b[0;31mFileNotFoundError\u001b[0m                         Traceback (most recent call last)",
      "\u001b[0;32m<ipython-input-31-077d6b28c2ae>\u001b[0m in \u001b[0;36m<module>\u001b[0;34m\u001b[0m\n\u001b[1;32m     14\u001b[0m \u001b[0;34m\u001b[0m\u001b[0m\n\u001b[1;32m     15\u001b[0m \u001b[0mpool\u001b[0m \u001b[0;34m=\u001b[0m \u001b[0mPool\u001b[0m\u001b[0;34m(\u001b[0m\u001b[0mcpu_count\u001b[0m\u001b[0;34m(\u001b[0m\u001b[0;34m)\u001b[0m \u001b[0;34m-\u001b[0m \u001b[0;36m1\u001b[0m\u001b[0;34m)\u001b[0m\u001b[0;34m\u001b[0m\u001b[0;34m\u001b[0m\u001b[0m\n\u001b[0;32m---> 16\u001b[0;31m \u001b[0mpool\u001b[0m\u001b[0;34m.\u001b[0m\u001b[0mmap\u001b[0m\u001b[0;34m(\u001b[0m\u001b[0mprocess\u001b[0m\u001b[0;34m,\u001b[0m \u001b[0mroutine_history\u001b[0m\u001b[0;34m)\u001b[0m\u001b[0;34m\u001b[0m\u001b[0;34m\u001b[0m\u001b[0m\n\u001b[0m",
      "\u001b[0;32m/usr/lib/python3.8/multiprocessing/pool.py\u001b[0m in \u001b[0;36mmap\u001b[0;34m(self, func, iterable, chunksize)\u001b[0m\n\u001b[1;32m    362\u001b[0m         \u001b[0;32min\u001b[0m \u001b[0ma\u001b[0m \u001b[0mlist\u001b[0m \u001b[0mthat\u001b[0m \u001b[0;32mis\u001b[0m \u001b[0mreturned\u001b[0m\u001b[0;34m.\u001b[0m\u001b[0;34m\u001b[0m\u001b[0;34m\u001b[0m\u001b[0m\n\u001b[1;32m    363\u001b[0m         '''\n\u001b[0;32m--> 364\u001b[0;31m         \u001b[0;32mreturn\u001b[0m \u001b[0mself\u001b[0m\u001b[0;34m.\u001b[0m\u001b[0m_map_async\u001b[0m\u001b[0;34m(\u001b[0m\u001b[0mfunc\u001b[0m\u001b[0;34m,\u001b[0m \u001b[0miterable\u001b[0m\u001b[0;34m,\u001b[0m \u001b[0mmapstar\u001b[0m\u001b[0;34m,\u001b[0m \u001b[0mchunksize\u001b[0m\u001b[0;34m)\u001b[0m\u001b[0;34m.\u001b[0m\u001b[0mget\u001b[0m\u001b[0;34m(\u001b[0m\u001b[0;34m)\u001b[0m\u001b[0;34m\u001b[0m\u001b[0;34m\u001b[0m\u001b[0m\n\u001b[0m\u001b[1;32m    365\u001b[0m \u001b[0;34m\u001b[0m\u001b[0m\n\u001b[1;32m    366\u001b[0m     \u001b[0;32mdef\u001b[0m \u001b[0mstarmap\u001b[0m\u001b[0;34m(\u001b[0m\u001b[0mself\u001b[0m\u001b[0;34m,\u001b[0m \u001b[0mfunc\u001b[0m\u001b[0;34m,\u001b[0m \u001b[0miterable\u001b[0m\u001b[0;34m,\u001b[0m \u001b[0mchunksize\u001b[0m\u001b[0;34m=\u001b[0m\u001b[0;32mNone\u001b[0m\u001b[0;34m)\u001b[0m\u001b[0;34m:\u001b[0m\u001b[0;34m\u001b[0m\u001b[0;34m\u001b[0m\u001b[0m\n",
      "\u001b[0;32m/usr/lib/python3.8/multiprocessing/pool.py\u001b[0m in \u001b[0;36mget\u001b[0;34m(self, timeout)\u001b[0m\n\u001b[1;32m    769\u001b[0m             \u001b[0;32mreturn\u001b[0m \u001b[0mself\u001b[0m\u001b[0;34m.\u001b[0m\u001b[0m_value\u001b[0m\u001b[0;34m\u001b[0m\u001b[0;34m\u001b[0m\u001b[0m\n\u001b[1;32m    770\u001b[0m         \u001b[0;32melse\u001b[0m\u001b[0;34m:\u001b[0m\u001b[0;34m\u001b[0m\u001b[0;34m\u001b[0m\u001b[0m\n\u001b[0;32m--> 771\u001b[0;31m             \u001b[0;32mraise\u001b[0m \u001b[0mself\u001b[0m\u001b[0;34m.\u001b[0m\u001b[0m_value\u001b[0m\u001b[0;34m\u001b[0m\u001b[0;34m\u001b[0m\u001b[0m\n\u001b[0m\u001b[1;32m    772\u001b[0m \u001b[0;34m\u001b[0m\u001b[0m\n\u001b[1;32m    773\u001b[0m     \u001b[0;32mdef\u001b[0m \u001b[0m_set\u001b[0m\u001b[0;34m(\u001b[0m\u001b[0mself\u001b[0m\u001b[0;34m,\u001b[0m \u001b[0mi\u001b[0m\u001b[0;34m,\u001b[0m \u001b[0mobj\u001b[0m\u001b[0;34m)\u001b[0m\u001b[0;34m:\u001b[0m\u001b[0;34m\u001b[0m\u001b[0;34m\u001b[0m\u001b[0m\n",
      "\u001b[0;31mFileNotFoundError\u001b[0m: [Errno 2] No such file or directory: 'main_game/attack_ships85.png'"
     ]
    }
   ],
   "source": [
    "import imageio\n",
    "from PIL import Image \n",
    "from multiprocessing import cpu_count, Pool\n",
    "\n",
    "def process(d):\n",
    "    (routine, raster, cycles, file_name) = d\n",
    "    img = Image.open(file_name)\n",
    "    background = Image.new('RGB', (504,312), \"black\")\n",
    "    background.paste(img, (60,20))\n",
    "\n",
    "    ylabel = f\"{routine} ({cycles} Cycles)\"\n",
    "    plt = createGraph(background, ylabel, raster, label_size=25)\n",
    "    plt.savefig(f\"../src/{file_name}\", bbox_inches=\"tight\")\n",
    "    \n",
    "pool = Pool(cpu_count() - 1)\n",
    "pool.map(process, routine_history)"
   ]
  },
  {
   "cell_type": "code",
   "execution_count": null,
   "metadata": {},
   "outputs": [],
   "source": [
    "\n",
    "\n",
    "\n",
    "\n",
    "\n",
    "\n",
    "\n",
    "\n",
    "\n",
    "\n",
    "\n",
    "\n",
    "\n",
    "\n",
    "\n",
    "\n",
    "\n",
    "\n",
    "\n",
    "\n",
    "\n",
    "\n",
    "\n",
    "\n",
    "\n",
    "\n",
    "\n"
   ]
  }
 ],
 "metadata": {
  "kernelspec": {
   "display_name": "Python 3",
   "language": "python",
   "name": "python3"
  },
  "language_info": {
   "codemirror_mode": {
    "name": "ipython",
    "version": 3
   },
   "file_extension": ".py",
   "mimetype": "text/x-python",
   "name": "python",
   "nbconvert_exporter": "python",
   "pygments_lexer": "ipython3",
   "version": "3.8.10"
  }
 },
 "nbformat": 4,
 "nbformat_minor": 4
}

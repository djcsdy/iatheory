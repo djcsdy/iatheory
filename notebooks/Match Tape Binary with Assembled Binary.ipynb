{
 "cells": [
  {
   "cell_type": "code",
   "execution_count": 4,
   "metadata": {},
   "outputs": [],
   "source": [
    "mapping = {\n",
    "'019 (E000-F7FF).prg': [\n",
    "    ((0x02,0x832), (\"bonusphase_graphics.prg\", 0x02,0x832)), # End\n",
    "    ((0x801,0x169d), (\"ia.prg\", 0x00,0x0eac)),\n",
    "    ((0x169e,0x1801), ()), # Junk Data\n",
    "    # End of prg\n",
    "],\n",
    "'010 (0800-BFFE).prg': [\n",
    "    ((0x43,0x111a), (\"enemy_sprites.prg\", 0x2,0x10da)), # End\n",
    "    ((0x1113,0xb800), (\"ia.prg\", 0x1114,0xb801)),\n",
    "    # End of prg\n",
    "],\n",
    "'013 (BF00-BFFF).prg': [\n",
    "    ((0x02,0x102), (\"ia.prg\", 0xb700,0xb800)),\n",
    "    # End of prg\n",
    "],\n",
    "'016 (C000-CFFE).prg': [\n",
    "    ((0x02,0xece), (\"ia.prg\", 0xb801,0xc6cc)), # End of ia.prg\n",
    "    ((0xece,0x1000), ()), # Looks like junk\n",
    "    # End of prg\n",
    "],\n",
    "}\n",
    "\n",
    "ia_mapping = {\n",
    "    (0x0800, \"Title Screen\"),\n",
    "    (0x0d55, \"DNA\"),\n",
    "    (0x149c, \"Title Music\"),\n",
    "    (0x16cf, \"Nothing\"),\n",
    "    (0x18c8, \"Level Data\"),\n",
    "    (0x2000, \"Current Planet Character Set\"),\n",
    "    (0x2800, \"Main Sprites\"),\n",
    "    (0x4000, \"Main Control Loop\"),\n",
    "    (0x40d3, \"Made in France\"),\n",
    "    (0x4788, \"Main Game Logic\"),\n",
    "    (0x7f08, \"Planet Surface Memory\"),\n",
    "    (0x9000, \"Planet Character Sets\"),\n",
    "    (0x9b00, \"Level Data\"),\n",
    "    (0xaac0, \"Bonus Phase\"),\n",
    "    (0xc800, \"Hi Score Table\"),\n",
    "    (0xcecc, \"Nothing\"),\n",
    "    (0xd000, \"System ROM\"),\n",
    "    (0xe000, \"Bonus Phase Graphics\"),\n",
    "    (0xe830, \"Enemy Sprites\"),\n",
    "}"
   ]
  }
 ],
 "metadata": {
  "kernelspec": {
   "display_name": "Python 3",
   "language": "python",
   "name": "python3"
  },
  "language_info": {
   "codemirror_mode": {
    "name": "ipython",
    "version": 3
   },
   "file_extension": ".py",
   "mimetype": "text/x-python",
   "name": "python",
   "nbconvert_exporter": "python",
   "pygments_lexer": "ipython3",
   "version": "3.8.10"
  }
 },
 "nbformat": 4,
 "nbformat_minor": 4
}

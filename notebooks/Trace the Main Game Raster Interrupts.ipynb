{
 "cells": [
  {
   "cell_type": "markdown",
   "metadata": {},
   "source": [
    "# Generate screen diagrams of main game"
   ]
  },
  {
   "cell_type": "markdown",
   "metadata": {},
   "source": [
    "```\n",
    "log on                                        \n",
    "logname \"IridisAlphaTitleScreenInterrupts.txt\"\n",
    "tr exec 0916 0916                             \n",
    "tr exec 0919 0919                             \n",
    "tr exec 0923 0923                             \n",
    "tr exec 0935 0935                             \n",
    "tr exec 0938 0938                             \n",
    "tr exec 0944 0944                             \n",
    "tr exec 0947 0947                             \n",
    "tr exec 098d 098d                             \n",
    "command 1 \"screenshot \\\"title\\\" 2\"            \n",
    "command 2 \"screenshot \\\"title\\\" 2\"            \n",
    "command 3 \"screenshot \\\"title\\\" 2\"            \n",
    "command 4 \"screenshot \\\"title\\\" 2\"            \n",
    "command 5 \"screenshot \\\"title\\\" 2\"            \n",
    "command 6 \"screenshot \\\"title\\\" 2\"            \n",
    "command 7 \"screenshot \\\"title\\\" 2\"            \n",
    "command 8 \"screenshot \\\"title\\\" 2\"            \n",
    "```\n",
    "\n",
    "Patch for vice:\n",
    "```c\n",
    "Index: src/monitor/monitor.c\n",
    "===================================================================\n",
    "--- src/monitor/monitor.c       (revision 42926)\n",
    "+++ src/monitor/monitor.c       (working copy)\n",
    "@@ -1105,6 +1105,7 @@\n",
    " void mon_screenshot_save(const char* filename, int format)\n",
    " {\n",
    "     const char* drvname;\n",
    "+    static int counter = 0;\n",
    " \n",
    "     switch (format) {\n",
    "         case 1:\n",
    "@@ -1123,7 +1124,12 @@\n",
    "             drvname = \"BMP\";\n",
    "             break;\n",
    "     }\n",
    "-    if (screenshot_save(drvname, filename, machine_video_canvas_get(0))) {\n",
    "+    char counter_string[16];\n",
    "+    sprintf(counter_string, \"%d\", counter++);\n",
    "+\n",
    "+    const char* uniq_name;\n",
    "+    uniq_name = util_concat(filename, counter_string, \".png\", NULL);\n",
    "+    if (screenshot_save(drvname, uniq_name, machine_video_canvas_get(0))) {\n",
    "         mon_out(\"Failed.\\n\");\n",
    "     }\n",
    " }\n",
    "\n",
    "```"
   ]
  },
  {
   "cell_type": "code",
   "execution_count": 20,
   "metadata": {},
   "outputs": [],
   "source": [
    "routines = {\n",
    "\"6c91\": \"AnimateStarfield\",\n",
    "\"6d4c\": \"AnimateStarfield-Finish\",\n",
    "\"6c26\": \"PerformMainGameUpdate\",\n",
    "\"6c6b\": \"PerformMainGameUpdate-Finish\",\n",
    "}\n",
    "\n",
    "routine_names = {\n",
    "\"6c91\": \"AnimateStarfield\",\n",
    "\"6d4c\": \"AnimateStarfield-Finish\",\n",
    "\"6c26\": \"PerformMainGameUpdate\",\n",
    "\"6c6b\": \"PerformMainGameUpdate-Finish\",\n",
    "}"
   ]
  },
  {
   "cell_type": "code",
   "execution_count": 29,
   "metadata": {},
   "outputs": [],
   "source": [
    "log_file = \"IridisAlphaMainGameInterrupts.txt\"\n",
    "input_file = open(log_file,'r')\n",
    "curr, curr_count, curr_raster, curr_cycles = \"\", 0, [], []\n",
    "prev_program_counter = 0\n",
    "\n",
    "routine_history = []\n",
    "lines = input_file.readlines()\n",
    "c = 0\n",
    "for i in range(6, len(lines), 5):\n",
    "    address = lines[i][16:20]\n",
    "    raster = lines[i][23:26].strip()\n",
    "    prev_program_counter = int(lines[i+1][70:78])\n",
    "    program_counter = int(lines[i+4][70:78])\n",
    "    cycles = program_counter - prev_program_counter\n",
    "    \n",
    "    routine = routine_names[address]\n",
    "    routine_history += [(routine, raster, cycles, f\"main_game/main{c}.png\")]\n",
    "    c += 1"
   ]
  },
  {
   "cell_type": "code",
   "execution_count": 16,
   "metadata": {},
   "outputs": [],
   "source": [
    "import matplotlib.pyplot as plt\n",
    "import matplotlib.ticker as ticker\n",
    "import numpy as np\n",
    "\n",
    "def createGraph(img, ylabel, raster, label_size):\n",
    "    fig, ax = plt.subplots(figsize=(20,20))\n",
    "    ax.imshow(img, extent=(0,504,312,0))\n",
    "    ax.set_ylabel(\"Rasterline Position\", fontsize = 40)  \n",
    "\n",
    "    ax.set_yticks([0,int(raster),312])\n",
    "    ax.set_xticks([0,504])\n",
    "    plt.yticks(fontsize=label_size)\n",
    "    plt.xticks(fontsize=label_size)\n",
    "    \n",
    "    ax.set_xlabel(f\"\\n{ylabel}\", fontsize = 45)  \n",
    "    #ax.set_xlabel(r'\\begin{center}X-axis\\\\*\\textit{\\small{' + label + r'}}\\end{center}')\n",
    "    return plt\n"
   ]
  },
  {
   "cell_type": "code",
   "execution_count": 32,
   "metadata": {},
   "outputs": [],
   "source": [
    "import imageio\n",
    "from PIL import Image \n",
    "\n",
    "for routine, raster, cycles, file_name in routine_history[5000:5400]:\n",
    "    img = Image.open(file_name)\n",
    "    background = Image.new('RGB', (504,312), \"black\")\n",
    "    background.paste(img, (60,20))\n",
    "\n",
    "    ylabel = f\"{routine} ({cycles} Cycles)\"\n",
    "    plt = createGraph(background, ylabel, raster, label_size=25)\n",
    "    plt.savefig(f\"../src/{file_name}\", bbox_inches=\"tight\")\n",
    "    plt.close()"
   ]
  },
  {
   "cell_type": "markdown",
   "metadata": {},
   "source": [
    "## Clone a bunch of screenshots but with the borders removed"
   ]
  },
  {
   "cell_type": "code",
   "execution_count": 37,
   "metadata": {},
   "outputs": [],
   "source": [
    "import imageio\n",
    "from PIL import Image \n",
    "\n",
    "for i, (routine, raster, cycles, file_name) in enumerate(routine_history[5000:5400]):\n",
    "    img = Image.open(file_name)\n",
    "    cropped = img.crop((31, 32,353,242))\n",
    "\n",
    "    cropped.save(f\"../src/main_game/one_second/main{i}.png\")\n",
    "    img.close()\n",
    "    cropped.close()"
   ]
  },
  {
   "cell_type": "code",
   "execution_count": null,
   "metadata": {},
   "outputs": [],
   "source": [
    "\n",
    "\n",
    "\n",
    "\n",
    "\n",
    "\n",
    "\n",
    "\n",
    "\n",
    "\n",
    "\n",
    "\n",
    "\n",
    "\n",
    "\n",
    "\n",
    "\n",
    "\n",
    "\n",
    "\n",
    "\n",
    "\n",
    "\n",
    "\n",
    "\n",
    "\n",
    "\n"
   ]
  }
 ],
 "metadata": {
  "kernelspec": {
   "display_name": "Python 3",
   "language": "python",
   "name": "python3"
  },
  "language_info": {
   "codemirror_mode": {
    "name": "ipython",
    "version": 3
   },
   "file_extension": ".py",
   "mimetype": "text/x-python",
   "name": "python",
   "nbconvert_exporter": "python",
   "pygments_lexer": "ipython3",
   "version": "3.8.10"
  }
 },
 "nbformat": 4,
 "nbformat_minor": 4
}

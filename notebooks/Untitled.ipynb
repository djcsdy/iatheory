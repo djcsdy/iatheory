{
 "cells": [
  {
   "cell_type": "code",
   "execution_count": 5,
   "metadata": {},
   "outputs": [
    {
     "name": "stdout",
     "output_type": "stream",
     "text": [
      "0xc0\n"
     ]
    }
   ],
   "source": [
    "c = 0x40\n",
    "print(hex(c | 0xc0))"
   ]
  },
  {
   "cell_type": "code",
   "execution_count": null,
   "metadata": {},
   "outputs": [],
   "source": [
    "\n",
    "\"\"\"\n",
    "upperPlanetSurfaceCharset                                                             \n",
    "        .BYTE $00,$00,$20,$00,$8A,$AA,$00,$AA   ;.BYTE $00,$00,$20,$00,$8A,$AA,$00,$AA\n",
    "                                                ; CHARACTER $40                       \n",
    "                                                ; 00000000                            \n",
    "                                                ; 00000000                            \n",
    "                                                ; 00100000     *                      \n",
    "                                                ; 00000000                            \n",
    "                                                ; 10001010   *   * *                  \n",
    "                                                ; 10101010   * * * *                  \n",
    "                                                ; 00000000                            \n",
    "                                                ; 10101010   * * * *                  \n",
    "\n",
    "lowerPlanetSurfaceCharset                                                             \n",
    "        .BYTE $AA,$00,$AA,$A2,$00,$08,$00,$00   ;.BYTE $AA,$00,$AA,$A2,$00,$08,$00,$00\n",
    "                                                ; CHARACTER $c0                       \n",
    "                                                ; 10101010   * * * *                  \n",
    "                                                ; 00000000                            \n",
    "                                                ; 10101010   * * * *                  \n",
    "                                                ; 10100010   * *   *                  \n",
    "                                                ; 00000000                            \n",
    "                                                ; 00001000       *                    \n",
    "                                                ; 00000000                            \n",
    "                                                ; 00000000                            \n",
    "\"\"\""
   ]
  }
 ],
 "metadata": {
  "kernelspec": {
   "display_name": "Python 3",
   "language": "python",
   "name": "python3"
  },
  "language_info": {
   "codemirror_mode": {
    "name": "ipython",
    "version": 3
   },
   "file_extension": ".py",
   "mimetype": "text/x-python",
   "name": "python",
   "nbconvert_exporter": "python",
   "pygments_lexer": "ipython3",
   "version": "3.8.10"
  }
 },
 "nbformat": 4,
 "nbformat_minor": 4
}

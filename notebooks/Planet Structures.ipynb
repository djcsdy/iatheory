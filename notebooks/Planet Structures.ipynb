{
 "cells": [
  {
   "cell_type": "markdown",
   "metadata": {},
   "source": [
    "# Create Structures for Planets\n",
    "\n",
    "This creates latex figures that act as tilesheets for each of the planets."
   ]
  },
  {
   "cell_type": "markdown",
   "metadata": {},
   "source": [
    "First we load the planet textures from the source code. Each character is stored from top left to bottom right."
   ]
  },
  {
   "cell_type": "code",
   "execution_count": 121,
   "metadata": {},
   "outputs": [],
   "source": [
    "import re\n",
    "colors = {\n",
    "    \"00\": \"\",\n",
    "    \"01\": \"\\\\BACKGROUNDONE\",\n",
    "    \"10\": \"\\\\BACKGROUNDTWO\",\n",
    "    \"11\": \"\\\\CHARCOLOR\",\n",
    "}\n",
    "charsets_files = [\"../iridisalpha/src/graphics/planet_textures.asm\"]\n",
    "charsets = {}\n",
    "for charsets_file in charsets_files:\n",
    "    input_file = open(charsets_file,'r')\n",
    "    charset_data = []\n",
    "    curr_charset = []\n",
    "    for l in input_file.readlines():\n",
    "        if \"CHARACTER\" in l or \"planet\" in l:\n",
    "            if charset_data:\n",
    "                curr_charset += [charset_data]\n",
    "            charset_data = []\n",
    "        if \"planet\" in l:\n",
    "            if curr_charset:\n",
    "                charsets[charset_name] = curr_charset\n",
    "            charset_name = l.strip()\n",
    "            curr_charset = []\n",
    "            continue\n",
    "\n",
    "        m = re.findall(r\"[0-1]{8}\",l)\n",
    "        if not m:\n",
    "            continue\n",
    "        bits = m[0]\n",
    "        for i in range(0,7,2):\n",
    "            bitpair = bits[i:i+2]\n",
    "            charset_data += [colors[bitpair]]\n",
    "            charset_data += [colors[bitpair]]\n",
    "    if charset_data:\n",
    "        curr_charset += [charset_data]\n",
    "    charsets[charset_name] = curr_charset\n"
   ]
  },
  {
   "cell_type": "code",
   "execution_count": 122,
   "metadata": {},
   "outputs": [],
   "source": [
    "planet_colors = {\n",
    "    'planet1Charset' : ['brown','lightblue','lightgreen'],\n",
    "    'planet2Charset' : ['gray','lightred','brown'],\n",
    "    'planet3Charset' : ['yellow','white', 'lightred'],\n",
    "    'planet4Charset' : ['lightblue','yellow', 'darkgray'],\n",
    "    'planet5Charset' : ['lightgreen','lightred','lightred'],\n",
    "}"
   ]
  },
  {
   "cell_type": "markdown",
   "metadata": {},
   "source": [
    "Get the structure data"
   ]
  },
  {
   "cell_type": "code",
   "execution_count": 123,
   "metadata": {},
   "outputs": [],
   "source": [
    "raw_structure_data = \"\"\"\n",
    "mediumStructureData  .BYTE $65,$67,$69,$6B,$FF        \n",
    "                     .BYTE $64,$66,$68,$6A,$FE        \n",
    "largestStructureData .BYTE $41,$43,$51,$53,$41,$43,$FF\n",
    "                     .BYTE $60,$60,$50,$52,$60,$60,$FF\n",
    "                     .BYTE $49,$4B,$4D,$4F,$6D,$6F,$FF\n",
    "                     .BYTE $48,$4A,$4C,$4E,$6C,$6E,$FE\n",
    "nextLargestStructure .BYTE $59,$5B,$FF\n",
    "                     .BYTE $58,$5A,$FF    \n",
    "                     .BYTE $55,$57,$FF                \n",
    "                     .BYTE $54,$56,$FE                \n",
    "warpGateData         .BYTE $75,$77,$7D,$7F,$FF        \n",
    "                     .BYTE $74,$76,$7C,$7E,$FF        \n",
    "                     .BYTE $71,$73,$79,$7B,$FF        \n",
    "                     .BYTE $70,$72,$78,$7A,$FE        \n",
    "littleStructureData  .BYTE $45,$47,$FF\n",
    "                     .BYTE $44,$46,$FE\n",
    "\"\"\"\n",
    "structure_data = {}\n",
    "struct_chars = []\n",
    "for l in raw_structure_data.split('\\n'):\n",
    "    if any(d in l for d in [\"Data\",\"Structure\"]):\n",
    "        if struct_chars:\n",
    "            structure_data[struct_name] = struct_chars\n",
    "        struct_name = l[:21].strip()\n",
    "        struct_chars = [l[27:].strip().split(',')[:-1]]\n",
    "        continue\n",
    "    if \"BYTE\" in l:\n",
    "        struct_chars += [l[27:].strip().split(',')[:-1]]\n",
    "structure_data[struct_name] = struct_chars\n"
   ]
  },
  {
   "cell_type": "markdown",
   "metadata": {},
   "source": [
    "Create `scenes`, a list containing the full scene to render in charset hex bytes. The scene runs from the top left to the bottom right."
   ]
  },
  {
   "cell_type": "code",
   "execution_count": 133,
   "metadata": {},
   "outputs": [
    {
     "name": "stdout",
     "output_type": "stream",
     "text": [
      "dict_keys(['mediumStructureData', 'largestStructureData', 'nextLargestStructure', 'warpGateData', 'littleStructureData'])\n"
     ]
    }
   ],
   "source": [
    "print(structure_data.keys())"
   ]
  },
  {
   "cell_type": "code",
   "execution_count": 138,
   "metadata": {},
   "outputs": [],
   "source": [
    "import copy\n",
    "SCENE_WIDTH = 6\n",
    "def createBlankScene():\n",
    "    HEIGHT = 4\n",
    "    blank_scene = []\n",
    "    for y in range(0,HEIGHT):\n",
    "        l = []\n",
    "        for x in range(0,SCENE_WIDTH,2):\n",
    "            l += [\"$41\",\"$43\"] if y == 0 else [\"$00\",\"$00\"]\n",
    "        blank_scene += [l]\n",
    "    return blank_scene\n",
    "\n",
    "scenes = {}\n",
    "offsets = {\n",
    "    'mediumStructureData':  1, \n",
    "    'largestStructureData': 0,\n",
    "    'nextLargestStructure' : 2, \n",
    "    'warpGateData': 1,\n",
    "    'littleStructureData' : 2,\n",
    "}\n",
    "for struct_name, struct_data in structure_data.items():\n",
    "    struct = createBlankScene()\n",
    "    struct_offset = offsets[struct_name]\n",
    "    for i,v in enumerate(struct_data):\n",
    "        for j,b in enumerate(v):\n",
    "            struct[i][struct_offset+j] = b\n",
    "    scenes[struct_name] = list(reversed(copy.deepcopy(struct)))\n"
   ]
  },
  {
   "cell_type": "markdown",
   "metadata": {},
   "source": [
    "Create the latex figure files in the `planets` subdirectory, with names like `charsetPlanet1_mediumStructureData`."
   ]
  },
  {
   "cell_type": "code",
   "execution_count": 139,
   "metadata": {},
   "outputs": [
    {
     "name": "stdout",
     "output_type": "stream",
     "text": [
      "\\subfile{planets/planet1Charset_mediumStructureData}\n",
      "\\subfile{planets/planet2Charset_mediumStructureData}\n",
      "\\subfile{planets/planet3Charset_mediumStructureData}\n",
      "\\subfile{planets/planet4Charset_mediumStructureData}\n",
      "\\subfile{planets/planet5Charset_mediumStructureData}\n",
      "\\subfile{planets/planet1Charset_largestStructureData}\n",
      "\\subfile{planets/planet2Charset_largestStructureData}\n",
      "\\subfile{planets/planet3Charset_largestStructureData}\n",
      "\\subfile{planets/planet4Charset_largestStructureData}\n",
      "\\subfile{planets/planet5Charset_largestStructureData}\n",
      "\\subfile{planets/planet1Charset_nextLargestStructure}\n",
      "\\subfile{planets/planet2Charset_nextLargestStructure}\n",
      "\\subfile{planets/planet3Charset_nextLargestStructure}\n",
      "\\subfile{planets/planet4Charset_nextLargestStructure}\n",
      "\\subfile{planets/planet5Charset_nextLargestStructure}\n",
      "\\subfile{planets/planet1Charset_warpGateData}\n",
      "\\subfile{planets/planet2Charset_warpGateData}\n",
      "\\subfile{planets/planet3Charset_warpGateData}\n",
      "\\subfile{planets/planet4Charset_warpGateData}\n",
      "\\subfile{planets/planet5Charset_warpGateData}\n",
      "\\subfile{planets/planet1Charset_littleStructureData}\n",
      "\\subfile{planets/planet2Charset_littleStructureData}\n",
      "\\subfile{planets/planet3Charset_littleStructureData}\n",
      "\\subfile{planets/planet4Charset_littleStructureData}\n",
      "\\subfile{planets/planet5Charset_littleStructureData}\n"
     ]
    }
   ],
   "source": [
    "BIT_WIDTH = 8\n",
    "\n",
    "def fillCharacter(c, byte_x_offset=0, byte_y_offset=0, grid_height=0):\n",
    "    output = \"\"\n",
    "    bit_y_offset = ((grid_height - (byte_y_offset * BIT_WIDTH))) - 1\n",
    "    for j,v in enumerate(c):\n",
    "        if not v:\n",
    "            continue\n",
    "        x = (byte_x_offset * BIT_WIDTH) + ((j % BIT_WIDTH) if j >= 7 else j)\n",
    "        y = (bit_y_offset - int(j/BIT_WIDTH)) if j >= 7 else bit_y_offset\n",
    "        output += f'\\t\\\\fill[{v}] ({x},{y}) rectangle ++ (1,1);\\n'\n",
    "    return output\n",
    "\n",
    "def createStructure(planet_name, scene_name, scene):\n",
    "    grid_width = BIT_WIDTH * len(scene[0])\n",
    "    grid_height = BIT_WIDTH * len(scene)\n",
    "\n",
    "    header = \"\"\"\n",
    "\\\\begin{figure}[H]\n",
    "  {\n",
    "    \\\\setlength{\\\\tabcolsep}{3.0pt}\n",
    "    \\\\setlength\\cmidrulewidth{\\heavyrulewidth} % Make cmidrule = \n",
    "    \\\\begin{adjustbox}{width=3cm,center}\n",
    "      \\\\begin{tikzpicture}\n",
    "\"\"\"\n",
    "\n",
    "    output = header + '\\n'\n",
    "    output += f\"\\\\def\\BACKGROUNDONE{{{planet_colors[planet_name][0]}}}\\n\"\n",
    "    output += f\"\\\\def\\BACKGROUNDTWO{{{planet_colors[planet_name][1]}}}\\n\"\n",
    "    output += f\"\\\\def\\CHARCOLOR{{{planet_colors[planet_name][2]}}}\\n\"\n",
    "\n",
    "    #grid = f\"\\\\draw[step=1.0,gray,very thin] (0,0) grid ({grid_width},{grid_height});\"\n",
    "    #output += f\"\\t{grid}\\n\"\n",
    "    \n",
    "    charset = charsets[planet_name]\n",
    "    for byte_y_offset,ln in enumerate(scene):\n",
    "        for byte_x_offset,hex_ref in enumerate(ln):\n",
    "            char_index = int(hex_ref[1:],16) - 0x40\n",
    "            if char_index < 0:\n",
    "                continue\n",
    "            c = charset[char_index]\n",
    "            output += fillCharacter(c, byte_x_offset, byte_y_offset, grid_height)\n",
    "\n",
    "    footer = f\"\"\"\n",
    "      \\\\end{{tikzpicture}}\n",
    "    \\\\end{{adjustbox}}\n",
    "  }}\\\\caption{{{planet_name}\\ {scene_name}}}\n",
    "\\\\end{{figure}}\n",
    "\"\"\"\n",
    "    output += footer\n",
    "    return output\n",
    "\n",
    "for scene_name, scene in scenes.items():\n",
    "    for planet_name in planet_colors:\n",
    "        output = createStructure(planet_name, scene_name, scene)\n",
    "        file_name = f\"../src/planets/{planet_name}_{scene_name}.tex\"\n",
    "        output_file = open(file_name,'w')\n",
    "        output_file.write(output)\n",
    "        output_file.close()\n",
    "        print(f\"\\subfile{{planets/{planet_name}_{scene_name}}}\")\n"
   ]
  },
  {
   "cell_type": "code",
   "execution_count": null,
   "metadata": {},
   "outputs": [],
   "source": [
    "\n",
    "    \n",
    "\n",
    "\n",
    "\n",
    "\n",
    "\n",
    "\n",
    "\n",
    "\n",
    "\n",
    "\n",
    "\n",
    "\n",
    "\n",
    "\n",
    "\n",
    "\n",
    "\n",
    "\n",
    "\n"
   ]
  }
 ],
 "metadata": {
  "kernelspec": {
   "display_name": "Python 3",
   "language": "python",
   "name": "python3"
  },
  "language_info": {
   "codemirror_mode": {
    "name": "ipython",
    "version": 3
   },
   "file_extension": ".py",
   "mimetype": "text/x-python",
   "name": "python",
   "nbconvert_exporter": "python",
   "pygments_lexer": "ipython3",
   "version": "3.8.10"
  }
 },
 "nbformat": 4,
 "nbformat_minor": 4
}
